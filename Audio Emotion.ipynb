{
 "cells": [
  {
   "cell_type": "code",
   "execution_count": 18,
   "metadata": {},
   "outputs": [],
   "source": [
    "import numpy as np # linear algebra\n",
    "import pandas as pd # data processing, CSV file I/O (e.g. pd.read_csv)\n",
    "\n",
    "import os\n",
    "import matplotlib.pyplot as plt\n",
    "# Any results you write to the current directory are saved as output."
   ]
  },
  {
   "cell_type": "code",
   "execution_count": 30,
   "metadata": {},
   "outputs": [],
   "source": [
    "###### import libraries\n",
    "import librosa\n",
    "import wave\n",
    "import keras\n",
    "from keras.utils import to_categorical\n",
    "from keras.models import Sequential\n",
    "from keras.layers import *\n",
    "from keras.optimizers import rmsprop"
   ]
  },
  {
   "cell_type": "code",
   "execution_count": 20,
   "metadata": {},
   "outputs": [],
   "source": [
    "def extract_mfcc(wav_file_name):\n",
    "    '''This function extracts mfcc features and obtain the mean of each dimension\n",
    "    Input : path_to_wav_file\n",
    "    Output: mfcc_features'''\n",
    "    y, sr = librosa.load(wav_file_name)\n",
    "#     trimmed_data = np.zeros((160, 20))\n",
    "    mfccs = np.mean(librosa.feature.mfcc(y=y, sr=sr, n_mfcc=40).T,axis=0)\n",
    "#     data = np.array(librosa.feature.mfcc(y = y, sr = sr, n_mfcc=40).T)\n",
    "#     if data.shape[0] <= 160:\n",
    "#         trimmed_data[:data.shape[0],0:] = data[:,0:]\n",
    "#     else:\n",
    "#         trimmed_data[0:,0:] = data[0:160,0:]\n",
    "    return mfccs"
   ]
  },
  {
   "cell_type": "code",
   "execution_count": 22,
   "metadata": {},
   "outputs": [],
   "source": [
    "##### load data from savee dataset\n",
    "#### although, we load the data here, it is not used in training or validation\n",
    "root_dir = \"./Audio/audio_speech_actors_01-24\"\n",
    "# root_dir = \"../input/audio_speech_actors_01-24/\"\n",
    "savee_data = []\n",
    "savee_labels = []\n",
    "for actor_dir in sorted(os.listdir(root_dir)):\n",
    "    if actor_dir[-4:] == \".txt\":\n",
    "        continue\n",
    "    for file_name in os.listdir(os.path.join(root_dir, actor_dir)):\n",
    "        if file_name[0] == \"c\":\n",
    "            continue\n",
    "        wav_file_name = os.path.join(root_dir, actor_dir, file_name)\n",
    "        savee_data.append(extract_mfcc(wav_file_name))\n",
    "        if file_name[0] == \"n\":\n",
    "            savee_labels.append(0)\n",
    "        if file_name[0] == \"a\":\n",
    "            savee_labels.append(4)\n",
    "        if file_name[0] == \"d\":\n",
    "            savee_labels.append(6)\n",
    "        if file_name[0] == \"f\":\n",
    "            savee_labels.append(5)\n",
    "        if file_name[0] == \"h\":\n",
    "            savee_labels.append(2)\n",
    "        if file_name[:2] == \"sa\":\n",
    "            savee_labels.append(3)\n",
    "        if file_name[:2] == \"su\":\n",
    "            savee_labels.append(7)"
   ]
  },
  {
   "cell_type": "code",
   "execution_count": 53,
   "metadata": {},
   "outputs": [],
   "source": [
    "#### convert data to array and make labels categorical\n",
    "try:\n",
    "    savee_data_array = np.asarray(savee_data)\n",
    "    savee_label_array = np.array(savee_labels)\n",
    "    to_categorical(savee_label_array)[0].shape\n",
    "except ValueError:  #raised if `y` is empty.\n",
    "    pass\n",
    "#savee_data_array.shape"
   ]
  },
  {
   "cell_type": "code",
   "execution_count": 49,
   "metadata": {},
   "outputs": [
    {
     "data": {
      "text/plain": [
       "(0,)"
      ]
     },
     "execution_count": 49,
     "metadata": {},
     "output_type": "execute_result"
    }
   ],
   "source": [
    "# #### combine data\n",
    "data = np.r_[savee_data_array]\n",
    "labels = np.r_[savee_label_array]\n",
    "# data = ravdess_speech_data_array\n",
    "# labels = ravdess_speech_label_array\n",
    "labels.shape"
   ]
  },
  {
   "cell_type": "code",
   "execution_count": 50,
   "metadata": {},
   "outputs": [
    {
     "data": {
      "image/png": "[encoded data removed]",
      "text/plain": [
       "<Figure size 432x288 with 1 Axes>"
      ]
     },
     "metadata": {
      "needs_background": "light"
     },
     "output_type": "display_data"
    }
   ],
   "source": [
    "### plot a histogram to understand the distribution of the data\n",
    "plt.hist(savee_label_array)\n",
    "plt.show()"
   ]
  },
  {
   "cell_type": "code",
   "execution_count": null,
   "metadata": {},
   "outputs": [],
   "source": []
  }
 ],
 "metadata": {
  "kernelspec": {
   "display_name": "Python 3",
   "language": "python",
   "name": "python3"
  },
  "language_info": {
   "codemirror_mode": {
    "name": "ipython",
    "version": 3
   },
   "file_extension": ".py",
   "mimetype": "text/x-python",
   "name": "python",
   "nbconvert_exporter": "python",
   "pygments_lexer": "ipython3",
   "version": "3.6.9"
  }
 },
 "nbformat": 4,
 "nbformat_minor": 4
}
